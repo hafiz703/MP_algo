{
  "nbformat": 4,
  "nbformat_minor": 0,
  "metadata": {
    "colab": {
      "name": "Micro-price",
      "provenance": []
    },
    "kernelspec": {
      "name": "python3",
      "display_name": "Python 3"
    },
    "language_info": {
      "name": "python"
    }
  },
  "cells": [
    {
      "cell_type": "markdown",
      "source": [
        "1. Microprice paper : https://papers.ssrn.com/sol3/papers.cfm?abstract_id=2970694\n",
        "\n",
        "2. Author's Code Repo : https://github.com/sstoikov/microprice/\n",
        "3. Stoikov's video explanation : https://www.youtube.com/watch?v=0ZHypIAxYNo&t=1220s&ab_channel=SashaStoikov"
      ],
      "metadata": {
        "id": "ADmoJug7-Goc"
      }
    },
    {
      "cell_type": "code",
      "execution_count": null,
      "metadata": {
        "id": "1jAquheevxDi"
      },
      "outputs": [],
      "source": [
        "import pandas as pd\n",
        "import numpy as np\n",
        "from sklearn import preprocessing\n",
        "from scipy.linalg import block_diag\n",
        "import matplotlib.pyplot as plt\n",
        "%matplotlib inline"
      ]
    },
    {
      "cell_type": "code",
      "source": [
        "!wget https://raw.githubusercontent.com/sstoikov/microprice/master/BAC_20110301_20110331.csv"
      ],
      "metadata": {
        "colab": {
          "base_uri": "https://localhost:8080/"
        },
        "id": "jnfgXagsz4jS",
        "outputId": "9b99ff30-f8d9-40a5-b744-da1b85e83c56"
      },
      "execution_count": null,
      "outputs": [
        {
          "output_type": "stream",
          "name": "stdout",
          "text": [
            "--2022-03-14 14:45:12--  https://raw.githubusercontent.com/sstoikov/microprice/master/BAC_20110301_20110331.csv\n",
            "Resolving raw.githubusercontent.com (raw.githubusercontent.com)... 185.199.111.133, 185.199.110.133, 185.199.109.133, ...\n",
            "Connecting to raw.githubusercontent.com (raw.githubusercontent.com)|185.199.111.133|:443... connected.\n",
            "HTTP request sent, awaiting response... 200 OK\n",
            "Length: 16534767 (16M) [text/plain]\n",
            "Saving to: ‘BAC_20110301_20110331.csv’\n",
            "\n",
            "BAC_20110301_201103 100%[===================>]  15.77M  --.-KB/s    in 0.1s    \n",
            "\n",
            "2022-03-14 14:45:12 (128 MB/s) - ‘BAC_20110301_20110331.csv’ saved [16534767/16534767]\n",
            "\n"
          ]
        }
      ]
    },
    {
      "cell_type": "code",
      "source": [
        "def get_df(fname):\n",
        "    df=pd.read_csv(fname)\n",
        "    df.columns = ['date','time','bid','bs','ask','as']\n",
        "    df = df.dropna()\n",
        "    df['date']=df['date'].astype(float)\n",
        "    df['time']=df['time'].astype(float)\n",
        "    df['bid']=df['bid'].astype(float)\n",
        "    df['ask']=df['ask'].astype(float)\n",
        "    df['bs']=df['bs'].astype(float)\n",
        "    df['as']=df['as'].astype(float)\n",
        "    \n",
        "    return df"
      ],
      "metadata": {
        "id": "pK67YXP40vaS"
      },
      "execution_count": null,
      "outputs": []
    },
    {
      "cell_type": "code",
      "source": [
        "def prep_data_sym(T,n_imb,dt,n_spread):\n",
        "    spread=T['ask']-T['bid']\n",
        "    n = np.round(1/min(spread))\n",
        "    ticksize=np.round(min(spread.loc[spread>0])*n)/n\n",
        "    \n",
        "    # Spread and mid prices\n",
        "    T['spread']=T['ask']-T['bid']\n",
        "    T['spread']=np.round((T['ask']-T['bid'])/ticksize)*ticksize\n",
        "    T['mid']=(T['bid']+T['ask'])/2\n",
        "\n",
        "    # Filter out spreads more than 0 and less than n_spread*ticksize\n",
        "    T = T.loc[(T['spread'] <= n_spread*ticksize) & (T['spread']>0)]\n",
        "    T['imb']=T['bs']/(T['bs']+T['as'])\n",
        "\n",
        "    # Discretize imbalance into percentiles\n",
        "    T['imb_bucket'] = pd.qcut(T['imb'], n_imb, labels=False)\n",
        "    T['next_mid']=T['mid'].shift(-dt)\n",
        "\n",
        "    # Step ahead state variables\n",
        "    T['next_spread']=T['spread'].shift(-dt)\n",
        "    T['next_time']=T['time'].shift(-dt)\n",
        "    T['next_imb_bucket']=T['imb_bucket'].shift(-dt)\n",
        "\n",
        "    # Step ahead change in price\n",
        "    T['dM']=np.round((T['next_mid']-T['mid'])/ticksize*2)*ticksize/2\n",
        "    T = T.loc[(T.dM <= ticksize*1.1) & (T.dM>=-ticksize*1.1)]\n",
        "\n",
        "    # Symetrize data\n",
        "    T2 = T.copy(deep=True)\n",
        "    T2['imb_bucket']=n_imb-1-T2['imb_bucket']\n",
        "    T2['next_imb_bucket']=n_imb-1-T2['next_imb_bucket']\n",
        "    T2['dM']=-T2['dM']\n",
        "    T2['mid']=-T2['mid']\n",
        "    T3=pd.concat([T,T2])\n",
        "    T3.index = pd.RangeIndex(len(T3.index)) \n",
        "    T3 = T3.dropna()\n",
        "    return T,T3,ticksize"
      ],
      "metadata": {
        "id": "DadHfDqIv7Lk"
      },
      "execution_count": null,
      "outputs": []
    },
    {
      "cell_type": "code",
      "source": [
        "def estimate(T, K):\n",
        "  # Transient - Q\n",
        "  no_move=T[T['dM']==0]\n",
        "  no_move_counts = no_move.groupby(['spread', 'imb_bucket','next_spread','next_imb_bucket'])[\"time\"].count().unstack(fill_value=0).astype(float)\n",
        "  for i in range(n_spread):\n",
        "      Qi=np.resize(np.array(no_move_counts[(i*n_imb*n_imb):(i+1)*(n_imb*n_imb)]),(n_imb,n_imb))\n",
        "      Q_counts = Qi if i==0  else block_diag(Q_counts,Qi)   \n",
        "     \n",
        "  # First Absorbing state - R1\n",
        "  move = T[(T['dM']!=0)]        \n",
        "  move_counts = move.groupby(['spread', 'imb_bucket','dM'])[\"time\"].count().unstack(fill_value=0).astype(float)\n",
        "  R_counts = np.resize(np.array(move_counts),(n_imb*n_spread,len(K)))\n",
        "\n",
        "  # Get probabilities / matrix states\n",
        "  T1=np.concatenate((Q_counts,R_counts),axis=1).astype(float)\n",
        "  T1 = preprocessing.normalize(T1, norm=\"l1\")\n",
        "\n",
        "  Q=T1[:,0:(n_imb*n_spread)]\n",
        "  R1=T1[:,(n_imb*n_spread):]\n",
        "  \n",
        "  # 2nd absorbing state - R2\n",
        "  move_counts_2 = move.groupby(['spread', 'imb_bucket','next_spread', 'next_imb_bucket'])[\"time\"].count().unstack(fill_value=0).astype(float)\n",
        "  R2_counts=np.resize(np.array(move_counts_2),(n_imb*n_spread,n_imb*n_spread))\n",
        "  T2=np.concatenate((Q_counts,R2_counts),axis=1).astype(float)\n",
        "  T2 = preprocessing.normalize(T2, norm=\"l1\")\n",
        "\n",
        "  Q2=T2[:,0:(n_imb*n_spread)]\n",
        "  R2=T2[:,(n_imb*n_spread):]\n",
        "\n",
        "  # G1, B\n",
        "  G1=np.dot(np.dot(np.linalg.inv(np.eye(n_imb*n_spread)-Q),R1),K)\n",
        "  B=np.dot(np.linalg.inv(np.eye(n_imb*n_spread)-Q),R2)\n",
        "  return G1,B"
      ],
      "metadata": {
        "id": "Gk_M9eUowC6L"
      },
      "execution_count": null,
      "outputs": []
    },
    {
      "cell_type": "code",
      "source": [
        "def getG6(G1,B,steps = 6):\n",
        "  G2 = G1+np.dot(B,G1)\n",
        "  G_steps = G2\n",
        "  for i in range(3,steps+1):\n",
        "    BB = np.dot(B,B)\n",
        "    for j in range(3,i): #G3 -> G6\n",
        "      BB = np.dot(BB,B)\n",
        "    G_steps += np.dot(BB,G1)\n",
        "  return G_steps"
      ],
      "metadata": {
        "id": "LQ4X8cwFwMyZ"
      },
      "execution_count": null,
      "outputs": []
    },
    {
      "cell_type": "code",
      "source": [
        "fname='BAC_20110301_20110331.csv'\n",
        "n_imb=10\n",
        "n_spread=2\n",
        "dt=1\n",
        "\n",
        "data = get_df(fname)"
      ],
      "metadata": {
        "id": "oRCoSABbwedZ"
      },
      "execution_count": null,
      "outputs": []
    },
    {
      "cell_type": "code",
      "source": [
        "T_, T,ts=prep_data_sym(data,n_imb,dt,n_spread)\n",
        "K = np.array([-ts, -ts*0.5, ts*0.5, ts])\n",
        "G1, B = estimate(T, K)\n",
        " \n",
        "G6= getG6(G1,B)  \n",
        "\n",
        "df_g6 = pd.DataFrame(np.reshape(G6,(n_imb, n_spread )))\n",
        "df_g6.index = np.linspace(0, n_imb-1, num=n_imb).astype(int)\n",
        "df_g6 = df_g6.rename(columns=dict(zip(list(df_g6.columns), sorted(T['spread'].unique()))))\n",
        "\n",
        "T = T_\n",
        "\n",
        "mp_adjustments = []\n",
        "for spread,imb in zip(T[\"spread\"], T[\"imb_bucket\"]):\n",
        "  mp_adjustments.append(df_g6.loc[imb, spread])\n",
        "\n",
        "T['microprice'] = np.array(mp_adjustments) + T[\"mid\"]"
      ],
      "metadata": {
        "colab": {
          "base_uri": "https://localhost:8080/"
        },
        "id": "g8l2h1ZLwGSf",
        "outputId": "4b595d28-4347-4812-c10a-30d43fac2ef5"
      },
      "execution_count": null,
      "outputs": [
        {
          "output_type": "stream",
          "name": "stderr",
          "text": [
            "/usr/local/lib/python3.7/dist-packages/ipykernel_launcher.py:13: SettingWithCopyWarning: \n",
            "A value is trying to be set on a copy of a slice from a DataFrame.\n",
            "Try using .loc[row_indexer,col_indexer] = value instead\n",
            "\n",
            "See the caveats in the documentation: https://pandas.pydata.org/pandas-docs/stable/user_guide/indexing.html#returning-a-view-versus-a-copy\n",
            "  del sys.path[0]\n",
            "/usr/local/lib/python3.7/dist-packages/ipykernel_launcher.py:16: SettingWithCopyWarning: \n",
            "A value is trying to be set on a copy of a slice from a DataFrame.\n",
            "Try using .loc[row_indexer,col_indexer] = value instead\n",
            "\n",
            "See the caveats in the documentation: https://pandas.pydata.org/pandas-docs/stable/user_guide/indexing.html#returning-a-view-versus-a-copy\n",
            "  app.launch_new_instance()\n",
            "/usr/local/lib/python3.7/dist-packages/ipykernel_launcher.py:17: SettingWithCopyWarning: \n",
            "A value is trying to be set on a copy of a slice from a DataFrame.\n",
            "Try using .loc[row_indexer,col_indexer] = value instead\n",
            "\n",
            "See the caveats in the documentation: https://pandas.pydata.org/pandas-docs/stable/user_guide/indexing.html#returning-a-view-versus-a-copy\n",
            "/usr/local/lib/python3.7/dist-packages/ipykernel_launcher.py:20: SettingWithCopyWarning: \n",
            "A value is trying to be set on a copy of a slice from a DataFrame.\n",
            "Try using .loc[row_indexer,col_indexer] = value instead\n",
            "\n",
            "See the caveats in the documentation: https://pandas.pydata.org/pandas-docs/stable/user_guide/indexing.html#returning-a-view-versus-a-copy\n",
            "/usr/local/lib/python3.7/dist-packages/ipykernel_launcher.py:21: SettingWithCopyWarning: \n",
            "A value is trying to be set on a copy of a slice from a DataFrame.\n",
            "Try using .loc[row_indexer,col_indexer] = value instead\n",
            "\n",
            "See the caveats in the documentation: https://pandas.pydata.org/pandas-docs/stable/user_guide/indexing.html#returning-a-view-versus-a-copy\n",
            "/usr/local/lib/python3.7/dist-packages/ipykernel_launcher.py:22: SettingWithCopyWarning: \n",
            "A value is trying to be set on a copy of a slice from a DataFrame.\n",
            "Try using .loc[row_indexer,col_indexer] = value instead\n",
            "\n",
            "See the caveats in the documentation: https://pandas.pydata.org/pandas-docs/stable/user_guide/indexing.html#returning-a-view-versus-a-copy\n",
            "/usr/local/lib/python3.7/dist-packages/ipykernel_launcher.py:25: SettingWithCopyWarning: \n",
            "A value is trying to be set on a copy of a slice from a DataFrame.\n",
            "Try using .loc[row_indexer,col_indexer] = value instead\n",
            "\n",
            "See the caveats in the documentation: https://pandas.pydata.org/pandas-docs/stable/user_guide/indexing.html#returning-a-view-versus-a-copy\n"
          ]
        }
      ]
    },
    {
      "cell_type": "code",
      "source": [
        "start = 400\n",
        "end = start + 100\n",
        "df_subset = T[start:end]\n",
        "\n",
        "plt.plot(df_subset[\"ask\"], \"r\")\n",
        "plt.plot(df_subset[\"mid\"], \"k--\")\n",
        "plt.plot(df_subset[\"microprice\"], \"b\")\n",
        "plt.plot(df_subset[\"bid\"], \"g\")\n",
        "plt.xlabel(\"Time\")\n",
        "plt.legend([\"ask\", \"mid\", \"micro-price\", \"bid\"], loc=\"lower right\")\n",
        "\n",
        "plt.show()"
      ],
      "metadata": {
        "colab": {
          "base_uri": "https://localhost:8080/",
          "height": 279
        },
        "id": "qyGjth6r1CpL",
        "outputId": "b5168caa-f943-4371-e676-d9dd766fe121"
      },
      "execution_count": null,
      "outputs": [
        {
          "output_type": "display_data",
          "data": {
            "text/plain": [
              "<Figure size 432x288 with 1 Axes>"
            ],
            "image/png": "[encoded data removed]"
          },
          "metadata": {
            "needs_background": "light"
          }
        }
      ]
    }
  ]
}